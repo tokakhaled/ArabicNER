{
  "nbformat": 4,
  "nbformat_minor": 0,
  "metadata": {
    "colab": {
      "name": "NER.ipynb",
      "provenance": [],
      "collapsed_sections": []
    },
    "kernelspec": {
      "name": "python3",
      "display_name": "Python 3"
    },
    "accelerator": "GPU"
  },
  "cells": [
    {
      "cell_type": "code",
      "metadata": {
        "colab": {
          "base_uri": "https://localhost:8080/"
        },
        "id": "66YnbZb0i69k",
        "outputId": "dc18cd37-e115-4f65-ae42-fd6523c7a200"
      },
      "source": [
        "from google.colab import drive\r\n",
        "drive.mount('/content/drive',force_remount=True)"
      ],
      "execution_count": 8,
      "outputs": [
        {
          "output_type": "stream",
          "text": [
            "Mounted at /content/drive\n"
          ],
          "name": "stdout"
        }
      ]
    },
    {
      "cell_type": "code",
      "metadata": {
        "id": "yZqRcHQCsrDE"
      },
      "source": [
        "from pathlib import Path\r\n",
        "from datetime import datetime as dt\r\n",
        "import pandas as pd"
      ],
      "execution_count": 9,
      "outputs": []
    },
    {
      "cell_type": "code",
      "metadata": {
        "id": "Enh-wfeJs12T"
      },
      "source": [
        "path=\"/content/drive/MyDrive/ARNER/ANERCorp.xlsx\"\r\n",
        "xlsx = pd.ExcelFile(path)\r\n",
        "df=pd.read_excel(xlsx, header=None)\r\n",
        "df"
      ],
      "execution_count": null,
      "outputs": []
    },
    {
      "cell_type": "code",
      "metadata": {
        "id": "xtCGG8MmtFkU"
      },
      "source": [
        "df = df.drop(2, 1)\r\n",
        "df = df.rename(columns={0: 'text', 1: 'label'})\r\n",
        "df"
      ],
      "execution_count": null,
      "outputs": []
    },
    {
      "cell_type": "code",
      "metadata": {
        "id": "vnW469CXtLfb"
      },
      "source": [
        "from sklearn.model_selection import train_test_split\r\n",
        "\r\n",
        "train, test = train_test_split(df, test_size = 0.2)\r\n",
        "train_arr = []\r\n",
        "test_arr = []\r\n",
        "train_lbl = []\r\n",
        "test_lbl = []"
      ],
      "execution_count": 13,
      "outputs": []
    },
    {
      "cell_type": "code",
      "metadata": {
        "id": "O2F9fnaatSwK"
      },
      "source": [
        "train_arr=train['text'].astype(str)\r\n",
        "train_lbl=train['label'].astype(str)\r\n",
        "test_arr=test['text'].astype(str)\r\n",
        "test_lbl=test['label'].astype(str)"
      ],
      "execution_count": 14,
      "outputs": []
    },
    {
      "cell_type": "code",
      "metadata": {
        "id": "2LDWl-ZrtVUT"
      },
      "source": [
        "from sklearn.feature_extraction.text import CountVectorizer, TfidfTransformer,TfidfVectorizer\r\n",
        "vectorizer = CountVectorizer()\r\n",
        "vectorizer.fit(train_arr)\r\n",
        "train_mat = vectorizer.transform(train_arr)\r\n",
        "tfidf = TfidfTransformer()\r\n",
        "tfidf.fit(train_mat)\r\n",
        "train_tfmat = tfidf.transform(train_mat)\r\n",
        "test_mat = vectorizer.transform(test_arr)\r\n",
        "test_tfmat = tfidf.transform(test_mat)"
      ],
      "execution_count": 15,
      "outputs": []
    },
    {
      "cell_type": "code",
      "metadata": {
        "id": "6tVS5cwwtcoK"
      },
      "source": [
        "del df\r\n",
        "del test_arr\r\n",
        "del train_arr"
      ],
      "execution_count": 16,
      "outputs": []
    },
    {
      "cell_type": "code",
      "metadata": {
        "colab": {
          "base_uri": "https://localhost:8080/"
        },
        "id": "HoRgJ99HtfO7",
        "outputId": "575087c9-6258-469e-933e-96f833f19a5c"
      },
      "source": [
        "from sklearn.naive_bayes import BernoulliNB, GaussianNB, MultinomialNB\r\n",
        "from sklearn.svm import LinearSVC\r\n",
        "train_tfmat\r\n",
        "\r\n",
        "lsvm=LinearSVC()\r\n",
        "lsvm.fit(train_tfmat,train_lbl)"
      ],
      "execution_count": 18,
      "outputs": [
        {
          "output_type": "execute_result",
          "data": {
            "text/plain": [
              "LinearSVC(C=1.0, class_weight=None, dual=True, fit_intercept=True,\n",
              "          intercept_scaling=1, loss='squared_hinge', max_iter=1000,\n",
              "          multi_class='ovr', penalty='l2', random_state=None, tol=0.0001,\n",
              "          verbose=0)"
            ]
          },
          "metadata": {
            "tags": []
          },
          "execution_count": 18
        }
      ]
    },
    {
      "cell_type": "code",
      "metadata": {
        "id": "94IzpTcStuEj"
      },
      "source": [
        "y_pred_lsvm=lsvm.predict(test_tfmat)"
      ],
      "execution_count": 19,
      "outputs": []
    },
    {
      "cell_type": "code",
      "metadata": {
        "colab": {
          "base_uri": "https://localhost:8080/",
          "height": 35
        },
        "id": "nAy1NC6styIJ",
        "outputId": "35a74467-a736-4f35-d901-fe043d8685ad"
      },
      "source": [
        "test=['ألمانيا']\r\n",
        "test_str = vectorizer.transform(test)\r\n",
        "test_tfstr = tfidf.transform(test_str)\r\n",
        "test_tfstr.shape\r\n",
        "lsvm.predict(test_tfstr.toarray())[0]"
      ],
      "execution_count": 20,
      "outputs": [
        {
          "output_type": "execute_result",
          "data": {
            "application/vnd.google.colaboratory.intrinsic+json": {
              "type": "string"
            },
            "text/plain": [
              "'B-LOC'"
            ]
          },
          "metadata": {
            "tags": []
          },
          "execution_count": 20
        }
      ]
    },
    {
      "cell_type": "code",
      "metadata": {
        "colab": {
          "base_uri": "https://localhost:8080/"
        },
        "id": "6t85JnvEt008",
        "outputId": "c774d63b-a5af-4a0b-8903-92d12abdc422"
      },
      "source": [
        "\r\n",
        "from sklearn.metrics import  accuracy_score\r\n",
        "from sklearn import metrics\r\n",
        "print(\"accuracy:\", metrics.accuracy_score(test_lbl, y_pred_lsvm))"
      ],
      "execution_count": 21,
      "outputs": [
        {
          "output_type": "stream",
          "text": [
            "accuracy: 0.9375207931332756\n"
          ],
          "name": "stdout"
        }
      ]
    },
    {
      "cell_type": "code",
      "metadata": {
        "id": "U242wnWsvdPM"
      },
      "source": [
        "import pickle\r\n",
        "# save the model to disk\r\n",
        "modelfilename = '/content/drive/MyDrive/ARNER/lsvm.sav'\r\n",
        "pickle.dump(lsvm, open(modelfilename, 'wb'))\r\n",
        "\r\n",
        "#save vectorizer\r\n",
        "vectorizerfilename = '/content/drive/MyDrive/ARNER/vectorizer.pickle'\r\n",
        "pickle.dump(vectorizer, open(vectorizerfilename, 'wb'))\r\n",
        "\r\n",
        "#save tfidf\r\n",
        "tfidffilename = '/content/drive/MyDrive/ARNER/tfidf.pickle'\r\n",
        "pickle.dump(tfidf, open(tfidffilename, 'wb'))"
      ],
      "execution_count": 43,
      "outputs": []
    },
    {
      "cell_type": "code",
      "metadata": {
        "id": "q6DfiWV4wPS4"
      },
      "source": [
        "from sklearn.svm import LinearSVC\r\n",
        "from sklearn.feature_extraction.text import CountVectorizer, TfidfTransformer,TfidfVectorizer\r\n",
        "import pickle\r\n",
        "import pandas as pd\r\n",
        "# load the model from disk\r\n",
        "modelfilename='/content/drive/MyDrive/ARNER/lsvm.sav'\r\n",
        "loaded_model = pickle.load(open(modelfilename, 'rb'))\r\n",
        "\r\n",
        "# load the vectorizer from disk\r\n",
        "vectorizerfilename='/content/drive/MyDrive/ARNER/vectorizer.pickle'\r\n",
        "loaded_vectorizer = pickle.load(open(vectorizerfilename, 'rb'))\r\n",
        "\r\n",
        "\r\n",
        "# load the tfidf from disk\r\n",
        "tfidffilename='/content/drive/MyDrive/ARNER/tfidf.pickle'\r\n",
        "loaded_tfidf = pickle.load(open(tfidffilename, 'rb'))\r\n"
      ],
      "execution_count": 46,
      "outputs": []
    },
    {
      "cell_type": "code",
      "metadata": {
        "id": "VwoNU_E3t5uy"
      },
      "source": [
        "phrase=\"هو مؤسس التقويم الهجري، وفي عهده بلغ الإسلام مبلغًا عظيمًا، وتوسع نطاق الدولة الإسلامية حتى شمل كامل العراق ومصر وليبيا والشام وفارس وخراسان وشرق الأناضول وجنوب أرمينية وسجستان،\""
      ],
      "execution_count": 47,
      "outputs": []
    },
    {
      "cell_type": "code",
      "metadata": {
        "colab": {
          "base_uri": "https://localhost:8080/",
          "height": 917
        },
        "id": "2OE5ra-jt_Bx",
        "outputId": "d406efcc-ae00-4bc8-ec99-10dfa73a9a0a"
      },
      "source": [
        "import sys\r\n",
        "arr=phrase.split()\r\n",
        "y=[]\r\n",
        "token=[]\r\n",
        "for x in arr:\r\n",
        "    x=[x]\r\n",
        "    test_str = loaded_vectorizer.transform(x)\r\n",
        "    test_tfstr = loaded_tfidf.transform(test_str)\r\n",
        "    test_tfstr.shape\r\n",
        "    token.append(x)\r\n",
        "    y.append(loaded_model.predict(test_tfstr.toarray())[0])\r\n",
        "\r\n",
        "df=pd.DataFrame(list(zip(token,y)),columns=['token','entity_type'])\r\n",
        "df"
      ],
      "execution_count": 48,
      "outputs": [
        {
          "output_type": "execute_result",
          "data": {
            "text/html": [
              "<div>\n",
              "<style scoped>\n",
              "    .dataframe tbody tr th:only-of-type {\n",
              "        vertical-align: middle;\n",
              "    }\n",
              "\n",
              "    .dataframe tbody tr th {\n",
              "        vertical-align: top;\n",
              "    }\n",
              "\n",
              "    .dataframe thead th {\n",
              "        text-align: right;\n",
              "    }\n",
              "</style>\n",
              "<table border=\"1\" class=\"dataframe\">\n",
              "  <thead>\n",
              "    <tr style=\"text-align: right;\">\n",
              "      <th></th>\n",
              "      <th>token</th>\n",
              "      <th>entity_type</th>\n",
              "    </tr>\n",
              "  </thead>\n",
              "  <tbody>\n",
              "    <tr>\n",
              "      <th>0</th>\n",
              "      <td>[هو]</td>\n",
              "      <td>O</td>\n",
              "    </tr>\n",
              "    <tr>\n",
              "      <th>1</th>\n",
              "      <td>[مؤسس]</td>\n",
              "      <td>O</td>\n",
              "    </tr>\n",
              "    <tr>\n",
              "      <th>2</th>\n",
              "      <td>[التقويم]</td>\n",
              "      <td>O</td>\n",
              "    </tr>\n",
              "    <tr>\n",
              "      <th>3</th>\n",
              "      <td>[الهجري،]</td>\n",
              "      <td>O</td>\n",
              "    </tr>\n",
              "    <tr>\n",
              "      <th>4</th>\n",
              "      <td>[وفي]</td>\n",
              "      <td>O</td>\n",
              "    </tr>\n",
              "    <tr>\n",
              "      <th>5</th>\n",
              "      <td>[عهده]</td>\n",
              "      <td>O</td>\n",
              "    </tr>\n",
              "    <tr>\n",
              "      <th>6</th>\n",
              "      <td>[بلغ]</td>\n",
              "      <td>O</td>\n",
              "    </tr>\n",
              "    <tr>\n",
              "      <th>7</th>\n",
              "      <td>[الإسلام]</td>\n",
              "      <td>B-MISC</td>\n",
              "    </tr>\n",
              "    <tr>\n",
              "      <th>8</th>\n",
              "      <td>[مبلغًا]</td>\n",
              "      <td>O</td>\n",
              "    </tr>\n",
              "    <tr>\n",
              "      <th>9</th>\n",
              "      <td>[عظيمًا،]</td>\n",
              "      <td>O</td>\n",
              "    </tr>\n",
              "    <tr>\n",
              "      <th>10</th>\n",
              "      <td>[وتوسع]</td>\n",
              "      <td>O</td>\n",
              "    </tr>\n",
              "    <tr>\n",
              "      <th>11</th>\n",
              "      <td>[نطاق]</td>\n",
              "      <td>O</td>\n",
              "    </tr>\n",
              "    <tr>\n",
              "      <th>12</th>\n",
              "      <td>[الدولة]</td>\n",
              "      <td>O</td>\n",
              "    </tr>\n",
              "    <tr>\n",
              "      <th>13</th>\n",
              "      <td>[الإسلامية]</td>\n",
              "      <td>O</td>\n",
              "    </tr>\n",
              "    <tr>\n",
              "      <th>14</th>\n",
              "      <td>[حتى]</td>\n",
              "      <td>O</td>\n",
              "    </tr>\n",
              "    <tr>\n",
              "      <th>15</th>\n",
              "      <td>[شمل]</td>\n",
              "      <td>O</td>\n",
              "    </tr>\n",
              "    <tr>\n",
              "      <th>16</th>\n",
              "      <td>[كامل]</td>\n",
              "      <td>O</td>\n",
              "    </tr>\n",
              "    <tr>\n",
              "      <th>17</th>\n",
              "      <td>[العراق]</td>\n",
              "      <td>B-LOC</td>\n",
              "    </tr>\n",
              "    <tr>\n",
              "      <th>18</th>\n",
              "      <td>[ومصر]</td>\n",
              "      <td>B-LOC</td>\n",
              "    </tr>\n",
              "    <tr>\n",
              "      <th>19</th>\n",
              "      <td>[وليبيا]</td>\n",
              "      <td>B-LOC</td>\n",
              "    </tr>\n",
              "    <tr>\n",
              "      <th>20</th>\n",
              "      <td>[والشام]</td>\n",
              "      <td>B-LOC</td>\n",
              "    </tr>\n",
              "    <tr>\n",
              "      <th>21</th>\n",
              "      <td>[وفارس]</td>\n",
              "      <td>B-LOC</td>\n",
              "    </tr>\n",
              "    <tr>\n",
              "      <th>22</th>\n",
              "      <td>[وخراسان]</td>\n",
              "      <td>O</td>\n",
              "    </tr>\n",
              "    <tr>\n",
              "      <th>23</th>\n",
              "      <td>[وشرق]</td>\n",
              "      <td>O</td>\n",
              "    </tr>\n",
              "    <tr>\n",
              "      <th>24</th>\n",
              "      <td>[الأناضول]</td>\n",
              "      <td>B-LOC</td>\n",
              "    </tr>\n",
              "    <tr>\n",
              "      <th>25</th>\n",
              "      <td>[وجنوب]</td>\n",
              "      <td>O</td>\n",
              "    </tr>\n",
              "    <tr>\n",
              "      <th>26</th>\n",
              "      <td>[أرمينية]</td>\n",
              "      <td>O</td>\n",
              "    </tr>\n",
              "    <tr>\n",
              "      <th>27</th>\n",
              "      <td>[وسجستان،]</td>\n",
              "      <td>O</td>\n",
              "    </tr>\n",
              "  </tbody>\n",
              "</table>\n",
              "</div>"
            ],
            "text/plain": [
              "          token entity_type\n",
              "0          [هو]           O\n",
              "1        [مؤسس]           O\n",
              "2     [التقويم]           O\n",
              "3     [الهجري،]           O\n",
              "4         [وفي]           O\n",
              "5        [عهده]           O\n",
              "6         [بلغ]           O\n",
              "7     [الإسلام]      B-MISC\n",
              "8      [مبلغًا]           O\n",
              "9     [عظيمًا،]           O\n",
              "10      [وتوسع]           O\n",
              "11       [نطاق]           O\n",
              "12     [الدولة]           O\n",
              "13  [الإسلامية]           O\n",
              "14        [حتى]           O\n",
              "15        [شمل]           O\n",
              "16       [كامل]           O\n",
              "17     [العراق]       B-LOC\n",
              "18       [ومصر]       B-LOC\n",
              "19     [وليبيا]       B-LOC\n",
              "20     [والشام]       B-LOC\n",
              "21      [وفارس]       B-LOC\n",
              "22    [وخراسان]           O\n",
              "23       [وشرق]           O\n",
              "24   [الأناضول]       B-LOC\n",
              "25      [وجنوب]           O\n",
              "26    [أرمينية]           O\n",
              "27   [وسجستان،]           O"
            ]
          },
          "metadata": {
            "tags": []
          },
          "execution_count": 48
        }
      ]
    }
  ]
}